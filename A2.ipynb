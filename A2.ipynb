{
 "cells": [
  {
   "cell_type": "code",
   "execution_count": 15,
   "metadata": {},
   "outputs": [],
   "source": [
    "from sklearn.datasets import fetch_openml\n",
    "\n",
    "# Load data from https://www.openml.org/d/554\n",
    "X, y = fetch_openml('mnist_784', version=1, return_X_y=True)\n",
    "X = X / 255."
   ]
  },
  {
   "cell_type": "code",
   "execution_count": 16,
   "metadata": {},
   "outputs": [],
   "source": [
    "from sklearn.model_selection import train_test_split\n",
    "\n",
    "# Split the data into train and test \n",
    "X_train, X_test, y_train, y_test = train_test_split(X, y, test_size=0.2, random_state=1, stratify=y)"
   ]
  },
  {
   "cell_type": "code",
   "execution_count": 17,
   "metadata": {},
   "outputs": [
    {
     "data": {
      "text/plain": [
       "<matplotlib.image.AxesImage at 0x7ff6f4568430>"
      ]
     },
     "execution_count": 17,
     "metadata": {},
     "output_type": "execute_result"
    },
    {
     "data": {
      "image/png": "[encoded data removed]",
      "text/plain": [
       "<Figure size 432x288 with 1 Axes>"
      ]
     },
     "metadata": {
      "needs_background": "light"
     },
     "output_type": "display_data"
    }
   ],
   "source": [
    "%matplotlib inline\n",
    "import matplotlib.pyplot as plt\n",
    "import random\n",
    "\n",
    "# Show the first sample\n",
    "plt.imshow(X[0].reshape(28, 28), cmap='gray')"
   ]
  },
  {
   "cell_type": "code",
   "execution_count": 18,
   "metadata": {},
   "outputs": [
    {
     "data": {
      "text/plain": [
       "56000"
      ]
     },
     "execution_count": 18,
     "metadata": {},
     "output_type": "execute_result"
    }
   ],
   "source": [
    "# Number of training samples\n",
    "X_train.shape[0]"
   ]
  },
  {
   "cell_type": "code",
   "execution_count": 19,
   "metadata": {},
   "outputs": [
    {
     "data": {
      "text/plain": [
       "14000"
      ]
     },
     "execution_count": 19,
     "metadata": {},
     "output_type": "execute_result"
    }
   ],
   "source": [
    "# Number of testing samples\n",
    "X_test.shape[0]"
   ]
  },
  {
   "cell_type": "code",
   "execution_count": 20,
   "metadata": {},
   "outputs": [],
   "source": [
    "from sklearn.neural_network import MLPClassifier\n",
    "\n",
    "# Design MLP \n",
    "mlp1 = MLPClassifier(hidden_layer_sizes=(25,), max_iter=10, alpha=1e-4, solver='sgd', verbose=10, random_state=1, learning_rate_init=.1)"
   ]
  },
  {
   "cell_type": "code",
   "execution_count": 21,
   "metadata": {},
   "outputs": [
    {
     "name": "stdout",
     "output_type": "stream",
     "text": [
      "Iteration 1, loss = 0.35304398\n",
      "Iteration 2, loss = 0.17923050\n",
      "Iteration 3, loss = 0.14261831\n",
      "Iteration 4, loss = 0.12351585\n",
      "Iteration 5, loss = 0.11027254\n",
      "Iteration 6, loss = 0.10247761\n",
      "Iteration 7, loss = 0.09624538\n",
      "Iteration 8, loss = 0.09001052\n",
      "Iteration 9, loss = 0.08532994\n",
      "Iteration 10, loss = 0.08156252\n"
     ]
    }
   ],
   "source": [
    "import warnings\n",
    "from sklearn.exceptions import ConvergenceWarning\n",
    "\n",
    "with warnings.catch_warnings():\n",
    "    warnings.filterwarnings(\"ignore\", category=ConvergenceWarning, module=\"sklearn\")\n",
    "    model_rf = mlp1.fit(X_train, y_train)"
   ]
  },
  {
   "cell_type": "code",
   "execution_count": 22,
   "metadata": {},
   "outputs": [
    {
     "name": "stdout",
     "output_type": "stream",
     "text": [
      "25 HIDDEN UNITS\n",
      "training accuracy: 98.0964%\n",
      "test accuracy: 96.4429%\n"
     ]
    }
   ],
   "source": [
    "print(\"25 HIDDEN UNITS\")\n",
    "print(f\"training accuracy: {round(mlp1.score(X_train, y_train) * 100, 4)}%\") \n",
    "print(f\"test accuracy: {round(mlp1.score(X_test, y_test) * 100,4)}%\")"
   ]
  },
  {
   "cell_type": "code",
   "execution_count": 23,
   "metadata": {},
   "outputs": [],
   "source": [
    "# Design MLP with double hidden units \n",
    "mlp2 = MLPClassifier(hidden_layer_sizes=(50,), max_iter=10, alpha=1e-4, solver='sgd', verbose=10, random_state=1, learning_rate_init=.1)"
   ]
  },
  {
   "cell_type": "code",
   "execution_count": 24,
   "metadata": {},
   "outputs": [
    {
     "name": "stdout",
     "output_type": "stream",
     "text": [
      "Iteration 1, loss = 0.32773771\n",
      "Iteration 2, loss = 0.15567672\n",
      "Iteration 3, loss = 0.11596356\n",
      "Iteration 4, loss = 0.09448018\n",
      "Iteration 5, loss = 0.08062504\n",
      "Iteration 6, loss = 0.06930390\n",
      "Iteration 7, loss = 0.06187657\n",
      "Iteration 8, loss = 0.05592639\n",
      "Iteration 9, loss = 0.05084232\n",
      "Iteration 10, loss = 0.04457103\n"
     ]
    }
   ],
   "source": [
    "import warnings\n",
    "from sklearn.exceptions import ConvergenceWarning\n",
    "\n",
    "with warnings.catch_warnings():\n",
    "    warnings.filterwarnings(\"ignore\", category=ConvergenceWarning,module=\"sklearn\")\n",
    "    mlp2.fit(X_train, y_train)"
   ]
  },
  {
   "cell_type": "code",
   "execution_count": 25,
   "metadata": {},
   "outputs": [
    {
     "name": "stdout",
     "output_type": "stream",
     "text": [
      "50 HIDDEN UNITS\n",
      "training accuracy: 98.7214%\n",
      "test accuracy: 96.9286%\n"
     ]
    }
   ],
   "source": [
    "print(\"50 HIDDEN UNITS\")\n",
    "print(f\"training accuracy: {round(mlp2.score(X_train, y_train) * 100, 4)}%\") \n",
    "print(f\"test accuracy: {round(mlp2.score(X_test, y_test) * 100,4)}%\")"
   ]
  },
  {
   "cell_type": "code",
   "execution_count": 26,
   "metadata": {},
   "outputs": [],
   "source": [
    "# Design MLP with reduced hidden units\n",
    "mlp3 = MLPClassifier(hidden_layer_sizes=(20,), max_iter=10, alpha=1e-4, solver='sgd', verbose=10, random_state=1, learning_rate_init=.1)"
   ]
  },
  {
   "cell_type": "code",
   "execution_count": 27,
   "metadata": {},
   "outputs": [
    {
     "name": "stdout",
     "output_type": "stream",
     "text": [
      "Iteration 1, loss = 0.39245069\n",
      "Iteration 2, loss = 0.22463907\n",
      "Iteration 3, loss = 0.19268572\n",
      "Iteration 4, loss = 0.17397206\n",
      "Iteration 5, loss = 0.16096125\n",
      "Iteration 6, loss = 0.15221758\n",
      "Iteration 7, loss = 0.14498239\n",
      "Iteration 8, loss = 0.14114028\n",
      "Iteration 9, loss = 0.13525146\n",
      "Iteration 10, loss = 0.13163687\n"
     ]
    }
   ],
   "source": [
    "import warnings\n",
    "from sklearn.exceptions import ConvergenceWarning\n",
    "\n",
    "with warnings.catch_warnings():\n",
    "    warnings.filterwarnings(\"ignore\", category=ConvergenceWarning, module=\"sklearn\")\n",
    "    mlp3.fit(X_train, y_train)"
   ]
  },
  {
   "cell_type": "code",
   "execution_count": 28,
   "metadata": {},
   "outputs": [
    {
     "name": "stdout",
     "output_type": "stream",
     "text": [
      "20 HIDDEN UNITS\n",
      "training accuracy: 96.55%\n",
      "test accuracy: 95.3143%\n"
     ]
    }
   ],
   "source": [
    "print(\"20 HIDDEN UNITS\")\n",
    "print(f\"training accuracy: {round(mlp3.score(X_train, y_train) * 100, 4)}%\") \n",
    "print(f\"test accuracy: {round(mlp3.score(X_test, y_test) * 100,4)}%\")"
   ]
  },
  {
   "cell_type": "markdown",
   "metadata": {},
   "source": [
    "OTHER RESULTS\n",
    "\n",
    "20 HIDDEN UNITS\n",
    "training accuracy: 96.55%\n",
    "test accuracy: 95.3143%\n",
    "    \n",
    "25 HIDDEN UNITS\n",
    "training accuracy: 98.0964%\n",
    "test accuracy: 96.4429%\n",
    "    \n",
    "30 HIDDEN UNITS\n",
    "training accuracy: 98.2161%\n",
    "test accuracy: 96.6143% \n",
    "    \n",
    "45 HIDDEN UNITS\n",
    "training accuracy: 98.6911%\n",
    "test accuracy: 97.0286%\n",
    "    \n",
    "50 HIDDEN UNITS\n",
    "training accuracy: 98.7214%\n",
    "test accuracy: 96.9286%\n",
    "\n",
    "54 HIDDEN UNITS\n",
    "training accuracy: 98.9946%\n",
    "test accuracy: 97.2214%\n",
    "\n",
    "55 HIDDEN UNITS\n",
    "training accuracy: 98.8679%\n",
    "test accuracy: 97.0643%\n",
    "    \n",
    "100 HIDDEN UNITS\n",
    "training accuracy: 99.55%\n",
    "test accuracy: 97.5571% "
   ]
  },
  {
   "cell_type": "markdown",
   "metadata": {},
   "source": [
    "From the code, we can see that the amount of hidden units affect the accuracy. More hidden layer units generally results in an increase in accuracy. As shown above, more hidden units will results in higher accuracy for the training set. However, there are some cases where it does not apply to the test set. For example, we take the accuracy comparison between the 45 and 50 hidden units. We can see that training accuracy of MLP with 45 hidden layer units is lower than the MLP with 50 hidden layer units. But, the test accuracy of MLP with 45 hidden layer units is slightly higher. The same case can also be seen when we compare MLP with 54 and 55 hidden layer units. From this situation, we conclude that increasing the hidden layer units results in higher accuracy, but having too many may cause decrease in the model performance overall, since too many hidden units can caused overfitting."
   ]
  }
 ],
 "metadata": {
  "kernelspec": {
   "display_name": "Python 3",
   "language": "python",
   "name": "python3"
  },
  "language_info": {
   "codemirror_mode": {
    "name": "ipython",
    "version": 3
   },
   "file_extension": ".py",
   "mimetype": "text/x-python",
   "name": "python",
   "nbconvert_exporter": "python",
   "pygments_lexer": "ipython3",
   "version": "3.8.3"
  }
 },
 "nbformat": 4,
 "nbformat_minor": 4
}
